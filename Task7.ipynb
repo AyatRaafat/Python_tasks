{
 "cells": [
  {
   "cell_type": "code",
   "execution_count": 8,
   "id": "eae10edf-75a1-4107-9b5f-fb63a3b1b393",
   "metadata": {},
   "outputs": [
    {
     "name": "stdout",
     "output_type": "stream",
     "text": [
      "the elements in y are of type: <U1\n",
      "y has dimensions:  (10,)\n"
     ]
    },
    {
     "data": {
      "text/plain": [
       "10"
      ]
     },
     "execution_count": 8,
     "metadata": {},
     "output_type": "execute_result"
    }
   ],
   "source": [
    "#ABC's\n",
    "import numpy as np\n",
    "\n",
    "x = [\"a\",\"b\",\"c\",\"d\",\"e\",\"f\",\"g\",\"h\",\"i\",\"j\"]\n",
    "y=np.array(x)\n",
    "y\n",
    "\n",
    "#dtype of array\n",
    "y.dtype\n",
    "print(\"the elements in y are of type:\", y.dtype)\n",
    "\n",
    "#shape of array\n",
    "y.shape\n",
    "print(\"y has dimensions: \",y.shape)\n",
    "\n",
    "#size of array\n",
    "y.size"
   ]
  },
  {
   "cell_type": "code",
   "execution_count": 22,
   "id": "b5086015-7123-4f25-a0c2-cb9302f823cf",
   "metadata": {},
   "outputs": [
    {
     "name": "stdout",
     "output_type": "stream",
     "text": [
      "x = [ 2  4  6  8 10 12 14 16 18 20 22 24 26 28 30 32]\n",
      "The elements in x are 16\n",
      "Reshaped X= \n",
      " [[ 2  4  6  8]\n",
      " [10 12 14 16]\n",
      " [18 20 22 24]\n",
      " [26 28 30 32]]\n",
      "The elements in x are 16\n",
      "X has dimensions: (4, 4)\n",
      "x = [[ 2  4  6  8]\n",
      " [10 12 14 16]\n",
      " [18 20 22 24]\n",
      " [26 28 30 32]]\n",
      "X = \n",
      " [ 2.  4.  6.  8. 10. 12. 14. 16. 18. 20. 22. 24. 26. 28. 30. 32.]\n",
      "The elements in x are 16\n"
     ]
    }
   ],
   "source": [
    "#Create an ndarray\n",
    "x = np.arange(2,33,2)\n",
    "print(\"x =\",x)\n",
    "print(\"The elements in x are\" ,x.size)\n",
    "\n",
    "x = np.reshape(x,(4,4))\n",
    "print(\"Reshaped X= \\n\",x)\n",
    "print(\"The elements in x are\" ,x.size)\n",
    "print(\"X has dimensions:\", x.shape)\n",
    "\n",
    "x = np.arange(2,33,2).reshape(4,4)\n",
    "print(\"x =\",x)\n",
    "\n",
    "#creating the same array using the np.linspace()\n",
    "x = np.linspace(2,32,16)\n",
    "print(\"X = \\n\",x)\n",
    "print(\"The elements in x are\" ,x.size)\n"
   ]
  },
  {
   "cell_type": "code",
   "execution_count": 44,
   "id": "1763f207-9291-4dea-8fff-38792b168659",
   "metadata": {},
   "outputs": [
    {
     "name": "stdout",
     "output_type": "stream",
     "text": [
      "z = [[ 1  2  3  4  5]\n",
      " [ 6  7  8  9 10]\n",
      " [11 12 13 14 15]\n",
      " [16 17 18 19 20]\n",
      " [21 22 23 24 25]]\n",
      "[ 1  3  5  7  9 11 13 15 17 19 21 23 25]\n"
     ]
    }
   ],
   "source": [
    "#Manipulating ndarrays\n",
    "z = np.arange(1,26).reshape(5,5)\n",
    "print(\"z =\",z)\n",
    "\n",
    "odd_numbers = z[z % 2 != 0]\n",
    "\n",
    "print(odd_numbers)\n"
   ]
  }
 ],
 "metadata": {
  "kernelspec": {
   "display_name": "Python 3 (ipykernel)",
   "language": "python",
   "name": "python3"
  },
  "language_info": {
   "codemirror_mode": {
    "name": "ipython",
    "version": 3
   },
   "file_extension": ".py",
   "mimetype": "text/x-python",
   "name": "python",
   "nbconvert_exporter": "python",
   "pygments_lexer": "ipython3",
   "version": "3.13.2"
  }
 },
 "nbformat": 4,
 "nbformat_minor": 5
}
